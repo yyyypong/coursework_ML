{
  "nbformat": 4,
  "nbformat_minor": 0,
  "metadata": {
    "colab": {
      "provenance": []
    },
    "kernelspec": {
      "name": "python3",
      "display_name": "Python 3"
    },
    "language_info": {
      "name": "python"
    }
  },
  "cells": [
    {
      "cell_type": "markdown",
      "source": [
        "## Introduction\n",
        "Loops come to us naturally, we learn about Loops in almost all programming languages. So, by default, we start implementing loops whenever there is a repetitive operation. But when we work with a large number of iterations (millions/billions of rows), using loops is a crime. You might be stuck for hours, to later realize that it won’t work. This is where implementing Vectorisation in python becomes super crucial."
      ],
      "metadata": {
        "id": "YgDf3vdoVvKp"
      }
    },
    {
      "cell_type": "markdown",
      "source": [
        "## What is Vectorization?\n",
        "\n",
        "Vectorization is the technique of implementing (NumPy) array operations on a dataset. In the background, it applies the operations to all the elements of an array or series in one go (unlike a ‘for’ loop that manipulates one row at a time).  \n",
        "\n",
        "Many complex systems nowadays deal with a large amount of data. Processing such a large amount of data in python can be slow as compared to other languages like C/C++. This is where vectorization comes into play. In this tutorial, we will learn about vectorizing operations on arrays in NumPy that speed up the execution of Python programs by comparing their execution time.\n"
      ],
      "metadata": {
        "id": "3fWh-u5MV4GK"
      }
    },
    {
      "cell_type": "markdown",
      "source": [
        "### USE CASE 1: Finding the Sum of numbers\n",
        "First, we will look at a fundamental example of finding the sum of numbers using loops and Vectorization in python.\n",
        "\n"
      ],
      "metadata": {
        "id": "AEk3mOQ4WhkF"
      }
    },
    {
      "cell_type": "markdown",
      "source": [
        "#### use loops"
      ],
      "metadata": {
        "id": "uEf_mME9W2W-"
      }
    },
    {
      "cell_type": "code",
      "source": [
        "import time\n",
        "start = time.time()\n",
        "\n",
        "\n",
        "# iterative sum\n",
        "total = 0\n",
        "# iterating through 1.5 Million numbers\n",
        "for item in range(0, 1500000):\n",
        "    total = total + item\n",
        "\n",
        "\n",
        "print('sum is:' + str(total))\n",
        "end = time.time()\n",
        "timeForLoop = end - start\n",
        "print(f\"total time for loop: {end - start} s\")\n"
      ],
      "metadata": {
        "colab": {
          "base_uri": "https://localhost:8080/"
        },
        "id": "JLUwoByBWj2t",
        "outputId": "9bd15eab-cc69-4963-a1fd-507b8a3067c9"
      },
      "execution_count": 7,
      "outputs": [
        {
          "output_type": "stream",
          "name": "stdout",
          "text": [
            "sum is:1124999250000\n",
            "total time for loop: 0.37195277214050293 s\n"
          ]
        }
      ]
    },
    {
      "cell_type": "markdown",
      "source": [
        "#### use vectorization"
      ],
      "metadata": {
        "id": "lrpGjS8AW7Vo"
      }
    },
    {
      "cell_type": "code",
      "source": [
        "import numpy as np\n",
        "\n",
        "start = time.time()\n",
        "\n",
        "# vectorized sum - using numpy for vectorization\n",
        "# np.arange create the sequence of numbers from 0 to 1499999\n",
        "print(np.sum(np.arange(1500000)))\n",
        "\n",
        "end = time.time()\n",
        "timeForVector = end - start\n",
        "print(f\"total time for vectorization: {end - start} s\")\n",
        "\n",
        "speedup = timeForLoop / timeForVector\n",
        "\n",
        "print(f\"speedup = timeForLoop / timeForVector = {speedup}\")\n"
      ],
      "metadata": {
        "colab": {
          "base_uri": "https://localhost:8080/"
        },
        "id": "tSHW61atWnyr",
        "outputId": "b4976b78-efd8-4432-bb0e-46b5023e3574"
      },
      "execution_count": 8,
      "outputs": [
        {
          "output_type": "stream",
          "name": "stdout",
          "text": [
            "1124999250000\n",
            "total time for vectorization: 0.003297567367553711 s\n",
            "speedup = timeForLoop / timeForVector = 112.7961101872605\n"
          ]
        }
      ]
    },
    {
      "cell_type": "code",
      "source": [],
      "metadata": {
        "id": "FtqcaJBmW-eM"
      },
      "execution_count": null,
      "outputs": []
    },
    {
      "cell_type": "markdown",
      "source": [
        "## Vectorized Operations using NumPy\n",
        "### 1. Add/Subtract/Multiply/Divide by Scalar\n",
        "\n",
        "Addition, Subtraction, Multiplication, and Division of an array by a scalar quantity result in an array of the same dimensions while updating all the elements of the array with a given scalar. We apply this operation just like we do with variables. The code is both small and fast as compared to for-loop implementation."
      ],
      "metadata": {
        "id": "aly_9W3YgNrl"
      }
    },
    {
      "cell_type": "code",
      "source": [
        "import numpy as np\n",
        "from timeit import Timer\n",
        "\n",
        "# Creating a large array of size 10**6\n",
        "array = np.random.randint(1000, size=10**6)\n",
        "num = 5\n",
        "\n",
        "# method that adds elements using for loop\n",
        "def add_forloop():\n",
        "  # TODO\n",
        "  pass\n",
        "\n",
        "# method that adds elements using vectorization\n",
        "def add_vectorized():\n",
        "  # TODO\n",
        "  pass\n",
        "\n",
        "# Finding execution time using timeit\n",
        "computation_time_forloop = Timer(add_forloop).timeit(1)\n",
        "computation_time_vectorized = Timer(add_vectorized).timeit(1)\n",
        "\n",
        "print(\"Computation time is %0.9f using for-loop\"%computation_time_forloop)\n",
        "print(\"Computation time is %0.9f using vectorization\"%computation_time_vectorized)\n",
        "print(\"speedup = timeForLoop / timeVector =%0.2f\"%(computation_time_forloop/computation_time_vectorized))\n"
      ],
      "metadata": {
        "colab": {
          "base_uri": "https://localhost:8080/"
        },
        "id": "uoqrREXxgnYo",
        "outputId": "6470d7c8-c09d-4f4a-c866-44f12ce05909"
      },
      "execution_count": 14,
      "outputs": [
        {
          "output_type": "stream",
          "name": "stdout",
          "text": [
            "Computation time is 0.177629014 using for-loop\n",
            "Computation time is 0.001630297 using vectorization\n",
            "speedup = timeForLoop / timeVector =108.96\n"
          ]
        }
      ]
    },
    {
      "cell_type": "code",
      "source": [
        "# # method that adds elements using for loop\n",
        "# def add_forloop():\n",
        "#   new_array = [element + num for element in array]\n",
        "\n",
        "# # method that adds elements using vectorization\n",
        "# def add_vectorized():\n",
        "#   new_array = array + num\n",
        "\n",
        "#   # new_array = array + 1"
      ],
      "metadata": {
        "id": "njNpeP4Wgu7e"
      },
      "execution_count": null,
      "outputs": []
    },
    {
      "cell_type": "markdown",
      "source": [
        "### 2.Sum and Max of array\n",
        "\n",
        "For finding the sum and maximum element in an array, we can use for loop as well as python built-in methods sum() and max() respectively. Lets compare both of these ways with numpy operations.\n",
        "\n"
      ],
      "metadata": {
        "id": "LpAy5BZYiNhN"
      }
    },
    {
      "cell_type": "code",
      "source": [
        "import numpy as np\n",
        "from timeit import Timer\n",
        "\n",
        "# Creating a large array of size 10**5\n",
        "array = np.random.randint(1000, size=10**5)\n",
        "\n",
        "def sum_using_forloop():\n",
        "  sum_array=0\n",
        "  for element in array:\n",
        "    sum_array += element\n",
        "\n",
        "def sum_using_builtin_method():\n",
        "  sum_array = sum(array)\n",
        "\n",
        "def sum_using_numpy():\n",
        "  # sum_array = np.sum(array)\n",
        "  sum_array = array.sum()\n",
        "\n",
        "time_forloop = Timer(sum_using_forloop).timeit(1)\n",
        "time_builtin = Timer(sum_using_builtin_method).timeit(1)\n",
        "time_numpy = Timer(sum_using_numpy).timeit(1)\n",
        "\n",
        "print(\"Summing elements takes %0.9f units using for loop\"%time_forloop)\n",
        "print(\"Summing elements takes %0.9f units using builtin method\"%time_builtin)\n",
        "print(\"Summing elements takes %0.9f units using numpy\"%time_numpy)"
      ],
      "metadata": {
        "colab": {
          "base_uri": "https://localhost:8080/"
        },
        "id": "p-kmsSZaiY1s",
        "outputId": "63f8b2e5-0241-4429-8258-624d67d684df"
      },
      "execution_count": 19,
      "outputs": [
        {
          "output_type": "stream",
          "name": "stdout",
          "text": [
            "Summing elements takes 0.015289550 units using for loop\n",
            "Summing elements takes 0.008029722 units using builtin method\n",
            "Summing elements takes 0.000113341 units using numpy\n"
          ]
        }
      ]
    },
    {
      "cell_type": "code",
      "source": [
        "import numpy as np\n",
        "from timeit import Timer\n",
        "\n",
        "# Creating a large array of size 10**5\n",
        "array = np.random.randint(1000, size=10**6)\n",
        "\n",
        "def max_using_forloop():\n",
        "  maximum=array[0]\n",
        "  for element in array:\n",
        "    if element > maximum:\n",
        "      maximum = element\n",
        "\n",
        "def max_using_builtin_method():\n",
        "  maximum = max(array)\n",
        "\n",
        "def max_using_numpy():\n",
        "  maximum = np.max(array)\n",
        "\n",
        "time_forloop = Timer(max_using_forloop).timeit(1)\n",
        "time_builtin = Timer(max_using_builtin_method).timeit(1)\n",
        "time_numpy = Timer(max_using_numpy).timeit(1)\n",
        "\n",
        "print(\"Finding maximum element takes %0.9f units using for loop\"%time_forloop)\n",
        "print(\"Finding maximum element takes %0.9f units using built-in method\"%time_builtin)\n",
        "print(\"Finding maximum element takes %0.9f units using numpy\"%time_numpy)\n"
      ],
      "metadata": {
        "colab": {
          "base_uri": "https://localhost:8080/"
        },
        "id": "R4Qdz9YjjlFt",
        "outputId": "00820021-24dc-4e67-9642-687156c7e164"
      },
      "execution_count": 20,
      "outputs": [
        {
          "output_type": "stream",
          "name": "stdout",
          "text": [
            "Finding maximum element takes 0.311211291 units using for loop\n",
            "Finding maximum element takes 0.139840153 units using built-in method\n",
            "Finding maximum element takes 0.000888493 units using numpy\n"
          ]
        }
      ]
    },
    {
      "cell_type": "code",
      "source": [],
      "metadata": {
        "id": "S0N5isOTicIz"
      },
      "execution_count": null,
      "outputs": []
    },
    {
      "cell_type": "markdown",
      "source": [
        "### 3. Dot product\n",
        "\n",
        "Also known as Inner Product, the dot product of two vectors is an algebraic operation that takes two vectors of the same length and returns a single scalar quantity. It is calculated as a sum of the element-wise product of both vectors. In terms of a matrix, given 2 matrices a and b of size N x 1, the dot product is done by taking the transpose of the first matrix and then mathematical matrix multiplication of aT(transpose of a) and b.\n",
        "\n",
        "$$ a \\cdot b = \\sum_{i}^{N}a_i*b_i$$\n",
        "\n",
        "![image.png](data:image/png;base64,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)\n"
      ],
      "metadata": {
        "id": "FpxVEBjfj38M"
      }
    },
    {
      "cell_type": "code",
      "source": [
        "import numpy as np\n",
        "from timeit import Timer\n",
        "\n",
        "# Create 2 vectors of same length\n",
        "length = 100000\n",
        "vector1 = np.random.randint(10000, size=length)\n",
        "vector2 = np.random.randint(10000, size=length)\n",
        "\n",
        "# Finds dot product of vectors using for loop\n",
        "def dotproduct_forloop():\n",
        "  dot = 0.0\n",
        "  for i in range(length):\n",
        "    dot += vector1[i] * vector2[i]\n",
        "\n",
        "# Finds dot product of vectors using numpy vectorization\n",
        "def dotproduct_vectorize():\n",
        "  dot = np.dot(vector1, vector2)\n",
        "\n",
        "\n",
        "# Finding execution time using timeit\n",
        "time_forloop = Timer(dotproduct_forloop).timeit(1)\n",
        "time_vectorize = Timer(dotproduct_vectorize).timeit(1)\n",
        "\n",
        "print(\"Finding dot product takes %0.9f units using for loop\"%time_forloop)\n",
        "print(\"Finding dot product takes %0.9f units using vectorization\"%time_vectorize)\n",
        "print(f\"speedup = {time_forloop / time_vectorize}\")"
      ],
      "metadata": {
        "colab": {
          "base_uri": "https://localhost:8080/"
        },
        "id": "YkEV-PeYj7lq",
        "outputId": "d274e4df-61f9-4819-96b6-ba5accebf882"
      },
      "execution_count": 22,
      "outputs": [
        {
          "output_type": "stream",
          "name": "stdout",
          "text": [
            "Finding dot product takes 0.111006779 units using for loop\n",
            "Finding dot product takes 0.000231278 units using vectorization\n",
            "speedup = 479.97119963262827\n"
          ]
        }
      ]
    },
    {
      "cell_type": "code",
      "source": [],
      "metadata": {
        "id": "NVflasuwj-Zt"
      },
      "execution_count": null,
      "outputs": []
    },
    {
      "cell_type": "markdown",
      "source": [
        "### 4. Outer Product\n",
        "\n",
        "The outer Product of two vectors produces a rectangular matrix. Given 2 vectors a and b of size nx1 and mx1, the outer product of these vectors results in a matrix of size nxm.\n",
        "![image.png](data:image/png;base64,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)\n"
      ],
      "metadata": {
        "id": "Q0tw5vD4k0vO"
      }
    },
    {
      "cell_type": "code",
      "source": [
        "import numpy as np\n",
        "from timeit import Timer\n",
        "\n",
        "# Create 2 vectors of same length\n",
        "length1 = 1000\n",
        "length2 = 500\n",
        "vector1 = np.random.randint(1000, size=length1)\n",
        "vector2 = np.random.randint(1000, size=length2)\n",
        "\n",
        "# Finds outer product of vectors using for loop\n",
        "def outerproduct_forloop():\n",
        "  outer_product = np.zeros((length1, length2), dtype='int')\n",
        "  for i in range(length1):\n",
        "    for j in range(length2):\n",
        "      outer_product[i, j] = vector1[i] * vector2[j]\n",
        "\n",
        "# Finds outer product of vectors using numpy vectorization\n",
        "def outerproduct_vectorize():\n",
        "  outer_product = np.outer(vector1, vector2)\n",
        "\n",
        "# Finding execution time using timeit\n",
        "time_forloop = Timer(outerproduct_forloop).timeit(1)\n",
        "time_vectorize = Timer(outerproduct_vectorize).timeit(1)\n",
        "\n",
        "print(\"Finding outer product takes %0.9f units using for loop\"%time_forloop)\n",
        "print(\"Finding outer product takes %0.9f units using vectorization\"%time_vectorize)\n",
        "print(f\"speedup = {time_forloop / time_vectorize}\")"
      ],
      "metadata": {
        "colab": {
          "base_uri": "https://localhost:8080/"
        },
        "id": "Q1AIw5mWk7np",
        "outputId": "7c35f961-d2c5-4eb8-d4dc-0756d38b67bd"
      },
      "execution_count": 24,
      "outputs": [
        {
          "output_type": "stream",
          "name": "stdout",
          "text": [
            "Finding outer product takes 0.228193103 units using for loop\n",
            "Finding outer product takes 0.001098139 units using vectorization\n",
            "speedup = 207.7998349789956\n"
          ]
        }
      ]
    },
    {
      "cell_type": "code",
      "source": [],
      "metadata": {
        "id": "XGwRW4q2k9W9"
      },
      "execution_count": null,
      "outputs": []
    },
    {
      "cell_type": "markdown",
      "source": [
        "### 5. Matrix Multiplication\n",
        "Matrix Multiplication is an algebraic operation in which rows of the first matrix is multiplied by a column of the second matrix. For 2 matrices of dimensions p x q and r x s, a necessary condition is that q == r for 2 matrices to multiply. The resulting matrix after multiplication will have dimension p x s.\n",
        "\n",
        "\n"
      ],
      "metadata": {
        "id": "5n-TUv7WlI4d"
      }
    },
    {
      "cell_type": "code",
      "source": [
        "import numpy as np\n",
        "from timeit import Timer\n",
        "\n",
        "# Create 2 vectors of same length\n",
        "n = 100\n",
        "k = 50\n",
        "m = 70\n",
        "matrix1 = np.random.randint(1000, size=(n, k))\n",
        "matrix2 = np.random.randint(1000, size=(k, m))\n",
        "\n",
        "# Multiply 2 matrices using for loop\n",
        "def matrixmultiply_forloop():\n",
        "  product = np.zeros((n, m), dtype='int')\n",
        "  for i in range(n):\n",
        "    for j in range(m):\n",
        "      for z in range(k):\n",
        "        product[i, j] += matrix1[i, z] * matrix2[z, j]\n",
        "\n",
        "# Multiply 2 matrices using numpy vectorization\n",
        "def matrixmultiply_vectorize():\n",
        "  product = np.matmul(matrix1, matrix2)\n",
        "\n",
        "# Finding execution time using timeit\n",
        "time_forloop = Timer(matrixmultiply_forloop).timeit(1)\n",
        "time_vectorize = Timer(matrixmultiply_vectorize).timeit(1)\n",
        "\n",
        "print(\"Multiplying matrices takes %0.9f units using for loop\"%time_forloop)\n",
        "print(\"Multiplying matrices takes %0.9f units using vectorization\"%time_vectorize)\n",
        "print(f\"speedup = {time_forloop / time_vectorize}\")"
      ],
      "metadata": {
        "colab": {
          "base_uri": "https://localhost:8080/"
        },
        "id": "C_Nw3VgtlUKB",
        "outputId": "44638d3d-0508-4ee3-e7e2-2b5e183e45ee"
      },
      "execution_count": 25,
      "outputs": [
        {
          "output_type": "stream",
          "name": "stdout",
          "text": [
            "Multiplying matrices takes 0.262222787 units using for loop\n",
            "Multiplying matrices takes 0.000583258 units using vectorization\n",
            "speedup = 449.5828381213652\n"
          ]
        }
      ]
    },
    {
      "cell_type": "code",
      "source": [],
      "metadata": {
        "id": "QHMjXinhlXO6"
      },
      "execution_count": null,
      "outputs": []
    },
    {
      "cell_type": "markdown",
      "source": [
        "### 6. Element Wise Product in Matrix\n",
        "The element-wise product of two matrices is the algebraic operation in which each element of the first matrix is multiplied by its corresponding element in the second matrix. The dimension of the matrices should be the same.\n",
        "\n",
        "![image.png](data:image/png;base64,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)\n"
      ],
      "metadata": {
        "id": "s2wO4Sc0leH5"
      }
    },
    {
      "cell_type": "code",
      "source": [
        "import numpy as np\n",
        "from timeit import Timer\n",
        "\n",
        "# Create 2 vectors of same length\n",
        "n = 500\n",
        "m = 700\n",
        "matrix1 = np.random.randint(1000, size=(n, m))\n",
        "matrix2 = np.random.randint(1000, size=(n, m))\n",
        "\n",
        "# Multiply 2 matrices using for loop\n",
        "def multiplication_forloop():\n",
        "  product = np.zeros((n, m), dtype='int')\n",
        "  for i in range(n):\n",
        "    for j in range(m):\n",
        "      product[i, j] = matrix1[i, j] * matrix2[i, j]\n",
        "\n",
        "# Multiply 2 matrices using numpy vectorization\n",
        "def multiplication_vectorize():\n",
        "  product = matrix1 * matrix2\n",
        "\n",
        "# Finding execution time using timeit\n",
        "time_forloop = Timer(multiplication_forloop).timeit(1)\n",
        "time_vectorize = Timer(multiplication_vectorize).timeit(1)\n",
        "\n",
        "print(\"Element Wise Multiplication takes %0.9f units using for loop\"%time_forloop)\n",
        "print(\"Element Wise Multiplication takes %0.9f units using vectorization\"%time_vectorize)\n",
        "print(f\"speedup = {time_forloop / time_vectorize}\")\n",
        "\n"
      ],
      "metadata": {
        "colab": {
          "base_uri": "https://localhost:8080/"
        },
        "id": "nKtSvptFlg8g",
        "outputId": "52f3027e-24e5-498b-f338-8b1f26a09985"
      },
      "execution_count": 26,
      "outputs": [
        {
          "output_type": "stream",
          "name": "stdout",
          "text": [
            "Element Wise Multiplication takes 0.181445541 units using for loop\n",
            "Element Wise Multiplication takes 0.000804968 units using vectorization\n",
            "speedup = 225.4071478590622\n"
          ]
        }
      ]
    },
    {
      "cell_type": "code",
      "source": [],
      "metadata": {
        "id": "bdFPCiaslpX9"
      },
      "execution_count": null,
      "outputs": []
    }
  ]
}